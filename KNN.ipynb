{
 "cells": [
  {
   "cell_type": "code",
   "execution_count": 29,
   "id": "eedf911f-b184-43de-9332-fd67f6bec62d",
   "metadata": {},
   "outputs": [],
   "source": [
    "import matplotlib.pyplot as plt\n",
    "import numpy as np\n",
    "import os\n",
    "\n",
    "from PIL import Image\n",
    "from sklearn import metrics\n",
    "from sklearn.model_selection import train_test_split\n",
    "from sklearn.neighbors import KNeighborsClassifier\n",
    "from sklearn.preprocessing import LabelEncoder"
   ]
  },
  {
   "cell_type": "code",
   "execution_count": 1,
   "id": "ec8d74de-aac6-4148-b128-841e52d9d8d8",
   "metadata": {},
   "outputs": [],
   "source": [
    "def get_liter(name: str) -> str:\n",
    "    liter = name.split('-')[0]\n",
    "    return '\\U00000462' if liter == \"ять\" else liter"
   ]
  },
  {
   "cell_type": "code",
   "execution_count": 61,
   "id": "f7c9d07c-6119-494a-9924-31fe1eccac89",
   "metadata": {},
   "outputs": [],
   "source": [
    "def load_images(path: str) -> (np.array, np.array):\n",
    "    images = []\n",
    "    labels = []\n",
    "    for pict in os.listdir(path):\n",
    "        with Image.open(os.path.join(path, pict)) as image:\n",
    "            b = image.getbbox()\n",
    "            img = image.crop(b)\n",
    "            img = img.resize((50, 50), resample=Image.NEAREST)\n",
    "            img = np.array(img).flatten()\n",
    "            images.append(img)\n",
    "            labels.append(get_liter(pict))\n",
    "    return np.array(images) / 255, np.array(labels)"
   ]
  },
  {
   "cell_type": "code",
   "execution_count": 62,
   "id": "4e90a727-81be-4524-b415-d8cfd86f6abb",
   "metadata": {},
   "outputs": [],
   "source": [
    "def make_conf_matrix(trues, preds, labels):\n",
    "    confusion_matrix = metrics.confusion_matrix(trues, preds)\n",
    "    cm_display = metrics.ConfusionMatrixDisplay(confusion_matrix=confusion_matrix, display_labels=sorted(labels))\n",
    "    cm_display.plot()\n",
    "    plt.show()"
   ]
  },
  {
   "cell_type": "code",
   "execution_count": 63,
   "id": "dcd60caf-619c-4b0b-97d2-b871a2b8dc1c",
   "metadata": {},
   "outputs": [],
   "source": [
    "X, labels = load_images(r'C:\\Users\\gudko\\history_envs\\sklearn_env\\data_knn')\n",
    "le = LabelEncoder()\n",
    "y = le.fit_transform(labels) \n",
    "X_train, X_test, y_train, y_test = train_test_split(X, y, random_state=313, test_size=0.15)"
   ]
  },
  {
   "cell_type": "code",
   "execution_count": 64,
   "id": "5289906e-40ab-4bb6-9a41-3712c71aa088",
   "metadata": {},
   "outputs": [],
   "source": [
    "best_k, best_predict = None, None\n",
    "best_metric = 0\n",
    "\n",
    "labels = le.inverse_transform(y_test)"
   ]
  },
  {
   "cell_type": "code",
   "execution_count": 65,
   "id": "7021d17f-23c4-4574-a4b1-93d32717be2e",
   "metadata": {},
   "outputs": [],
   "source": [
    "for k in range(2, 51):\n",
    "    model = KNeighborsClassifier(n_neighbors=k, n_jobs=5)\n",
    "    model.fit(X_train, y_train)\n",
    "    predicts = le.inverse_transform(model.predict(X_test))\n",
    "    metric = metrics.f1_score(labels, predicts, average='macro')\n",
    "    if metric > best_metric:\n",
    "        best_metric = metric\n",
    "        best_k = k\n",
    "        best_predict = predicts"
   ]
  },
  {
   "cell_type": "code",
   "execution_count": 66,
   "id": "3e2f2f54-134d-4098-a568-e16ba535c0f4",
   "metadata": {},
   "outputs": [
    {
     "name": "stdout",
     "output_type": "stream",
     "text": [
      "Best K: 25    F1: 0.5728337754199824\n"
     ]
    },
    {
     "data": {
      "image/png": "[encoded data removed]",
      "text/plain": [
       "<Figure size 640x480 with 2 Axes>"
      ]
     },
     "metadata": {},
     "output_type": "display_data"
    }
   ],
   "source": [
    "print(f\"Best K: {best_k}    F1: {best_metric}\")\n",
    "make_conf_matrix(labels, best_predict, le.classes_)"
   ]
  },
  {
   "cell_type": "code",
   "execution_count": null,
   "id": "31674a18-6f1d-4de2-b173-22a7eb0c6544",
   "metadata": {},
   "outputs": [],
   "source": []
  }
 ],
 "metadata": {
  "kernelspec": {
   "display_name": "sklearn_env",
   "language": "python",
   "name": "sklearn_env"
  },
  "language_info": {
   "codemirror_mode": {
    "name": "ipython",
    "version": 3
   },
   "file_extension": ".py",
   "mimetype": "text/x-python",
   "name": "python",
   "nbconvert_exporter": "python",
   "pygments_lexer": "ipython3",
   "version": "3.12.6"
  }
 },
 "nbformat": 4,
 "nbformat_minor": 5
}
